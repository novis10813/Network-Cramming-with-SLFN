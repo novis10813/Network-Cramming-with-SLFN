{
 "cells": [
  {
   "cell_type": "code",
   "execution_count": 1,
   "metadata": {},
   "outputs": [],
   "source": [
    "import torch\n",
    "import torch.nn as nn\n",
    "import torch.optim as optim\n",
    "\n",
    "from DataPreprocess import create_dataloader\n",
    "from InitializingModule import InitModel\n",
    "from TrainingAlgorithm import train"
   ]
  },
  {
   "cell_type": "code",
   "execution_count": 2,
   "metadata": {},
   "outputs": [],
   "source": [
    "train_loader, val_loader = create_dataloader(batch_size=128)"
   ]
  },
  {
   "cell_type": "code",
   "execution_count": 3,
   "metadata": {},
   "outputs": [],
   "source": [
    "device = torch.device('cuda')\n",
    "a = InitModel(12, 1, 1, device, batch_norm=True)\n",
    "test_model = a.init_module_1_ReLU_LR(train_loader)\n",
    "optimizer = optim.Adam(test_model.parameters(), lr=1e-3)\n",
    "criterion = nn.BCEWithLogitsLoss()"
   ]
  },
  {
   "cell_type": "code",
   "execution_count": 23,
   "metadata": {},
   "outputs": [
    {
     "name": "stdout",
     "output_type": "stream",
     "text": [
      "[ 1/100 ] | train_loss = 0.61232, train_acc = 0.66927, val_loss = 0.56571, val_acc = 0.82292\n",
      "[ 2/100 ] | train_loss = 0.60456, train_acc = 0.66927, val_loss = 0.59488, val_acc = 0.82292\n",
      "[ 3/100 ] | train_loss = 0.59577, train_acc = 0.67448, val_loss = 0.58164, val_acc = 0.82292\n",
      "[ 4/100 ] | train_loss = 0.58541, train_acc = 0.69010, val_loss = 0.58267, val_acc = 0.84375\n",
      "[ 5/100 ] | train_loss = 0.58005, train_acc = 0.68229, val_loss = 0.54317, val_acc = 0.85417\n",
      "[ 6/100 ] | train_loss = 0.56904, train_acc = 0.69271, val_loss = 0.54852, val_acc = 0.83333\n",
      "[ 7/100 ] | train_loss = 0.56369, train_acc = 0.67969, val_loss = 0.56546, val_acc = 0.82292\n",
      "[ 8/100 ] | train_loss = 0.55744, train_acc = 0.71875, val_loss = 0.58816, val_acc = 0.81250\n",
      "[ 9/100 ] | train_loss = 0.54866, train_acc = 0.72917, val_loss = 0.55414, val_acc = 0.80208\n",
      "[ 10/100 ] | train_loss = 0.54615, train_acc = 0.71875, val_loss = 0.56103, val_acc = 0.80208\n",
      "[ 11/100 ] | train_loss = 0.53423, train_acc = 0.74219, val_loss = 0.50992, val_acc = 0.80208\n",
      "[ 12/100 ] | train_loss = 0.53598, train_acc = 0.72917, val_loss = 0.49313, val_acc = 0.79167\n",
      "[ 13/100 ] | train_loss = 0.52674, train_acc = 0.73958, val_loss = 0.53765, val_acc = 0.78125\n",
      "[ 14/100 ] | train_loss = 0.52144, train_acc = 0.74740, val_loss = 0.52916, val_acc = 0.79167\n",
      "[ 15/100 ] | train_loss = 0.51663, train_acc = 0.75260, val_loss = 0.52014, val_acc = 0.78125\n",
      "[ 16/100 ] | train_loss = 0.51461, train_acc = 0.76302, val_loss = 0.53358, val_acc = 0.79167\n",
      "[ 17/100 ] | train_loss = 0.51023, train_acc = 0.77344, val_loss = 0.49934, val_acc = 0.79167\n",
      "[ 18/100 ] | train_loss = 0.50606, train_acc = 0.78125, val_loss = 0.51560, val_acc = 0.80208\n",
      "[ 19/100 ] | train_loss = 0.50398, train_acc = 0.78125, val_loss = 0.55543, val_acc = 0.79167\n",
      "[ 20/100 ] | train_loss = 0.50028, train_acc = 0.79167, val_loss = 0.48119, val_acc = 0.80208\n",
      "[ 21/100 ] | train_loss = 0.49725, train_acc = 0.77865, val_loss = 0.51900, val_acc = 0.79167\n",
      "[ 22/100 ] | train_loss = 0.49289, train_acc = 0.78906, val_loss = 0.49355, val_acc = 0.79167\n",
      "[ 23/100 ] | train_loss = 0.49144, train_acc = 0.80990, val_loss = 0.46781, val_acc = 0.79167\n",
      "[ 24/100 ] | train_loss = 0.49207, train_acc = 0.78646, val_loss = 0.52316, val_acc = 0.79167\n",
      "[ 25/100 ] | train_loss = 0.48343, train_acc = 0.80990, val_loss = 0.48714, val_acc = 0.79167\n",
      "[ 26/100 ] | train_loss = 0.48393, train_acc = 0.82031, val_loss = 0.50981, val_acc = 0.78125\n",
      "[ 27/100 ] | train_loss = 0.47901, train_acc = 0.81250, val_loss = 0.46992, val_acc = 0.78125\n",
      "[ 28/100 ] | train_loss = 0.47668, train_acc = 0.81250, val_loss = 0.48677, val_acc = 0.78125\n",
      "[ 29/100 ] | train_loss = 0.47453, train_acc = 0.81771, val_loss = 0.45500, val_acc = 0.79167\n",
      "[ 30/100 ] | train_loss = 0.47191, train_acc = 0.81510, val_loss = 0.45259, val_acc = 0.79167\n",
      "[ 31/100 ] | train_loss = 0.46729, train_acc = 0.81771, val_loss = 0.45568, val_acc = 0.79167\n",
      "[ 32/100 ] | train_loss = 0.46648, train_acc = 0.82292, val_loss = 0.47733, val_acc = 0.79167\n",
      "[ 33/100 ] | train_loss = 0.47166, train_acc = 0.80208, val_loss = 0.48326, val_acc = 0.79167\n",
      "[ 34/100 ] | train_loss = 0.46819, train_acc = 0.82292, val_loss = 0.48283, val_acc = 0.79167\n",
      "[ 35/100 ] | train_loss = 0.45973, train_acc = 0.82031, val_loss = 0.47171, val_acc = 0.80208\n",
      "[ 36/100 ] | train_loss = 0.45775, train_acc = 0.82812, val_loss = 0.44308, val_acc = 0.80208\n",
      "[ 37/100 ] | train_loss = 0.45598, train_acc = 0.82812, val_loss = 0.43799, val_acc = 0.80208\n",
      "[ 38/100 ] | train_loss = 0.45201, train_acc = 0.82812, val_loss = 0.48473, val_acc = 0.80208\n",
      "[ 39/100 ] | train_loss = 0.45068, train_acc = 0.84115, val_loss = 0.41792, val_acc = 0.80208\n",
      "[ 40/100 ] | train_loss = 0.44810, train_acc = 0.84635, val_loss = 0.45167, val_acc = 0.80208\n",
      "[ 41/100 ] | train_loss = 0.44619, train_acc = 0.83073, val_loss = 0.45260, val_acc = 0.80208\n",
      "[ 42/100 ] | train_loss = 0.44269, train_acc = 0.84375, val_loss = 0.46240, val_acc = 0.80208\n",
      "[ 43/100 ] | train_loss = 0.44516, train_acc = 0.83073, val_loss = 0.43885, val_acc = 0.80208\n",
      "[ 44/100 ] | train_loss = 0.43913, train_acc = 0.83594, val_loss = 0.44254, val_acc = 0.80208\n",
      "[ 45/100 ] | train_loss = 0.44196, train_acc = 0.83073, val_loss = 0.42160, val_acc = 0.81250\n",
      "[ 46/100 ] | train_loss = 0.43484, train_acc = 0.83854, val_loss = 0.43339, val_acc = 0.80208\n",
      "[ 47/100 ] | train_loss = 0.43496, train_acc = 0.83594, val_loss = 0.46112, val_acc = 0.80208\n",
      "[ 48/100 ] | train_loss = 0.43513, train_acc = 0.83854, val_loss = 0.44761, val_acc = 0.80208\n",
      "[ 49/100 ] | train_loss = 0.42749, train_acc = 0.84115, val_loss = 0.40072, val_acc = 0.80208\n",
      "[ 50/100 ] | train_loss = 0.42766, train_acc = 0.83854, val_loss = 0.46167, val_acc = 0.79167\n",
      "[ 51/100 ] | train_loss = 0.43097, train_acc = 0.83594, val_loss = 0.42784, val_acc = 0.79167\n",
      "[ 52/100 ] | train_loss = 0.42394, train_acc = 0.83594, val_loss = 0.41585, val_acc = 0.79167\n",
      "[ 53/100 ] | train_loss = 0.42859, train_acc = 0.83854, val_loss = 0.40622, val_acc = 0.79167\n",
      "[ 54/100 ] | train_loss = 0.42236, train_acc = 0.83073, val_loss = 0.41603, val_acc = 0.79167\n",
      "[ 55/100 ] | train_loss = 0.42009, train_acc = 0.83854, val_loss = 0.40401, val_acc = 0.79167\n",
      "[ 56/100 ] | train_loss = 0.41709, train_acc = 0.84375, val_loss = 0.40217, val_acc = 0.79167\n",
      "[ 57/100 ] | train_loss = 0.41593, train_acc = 0.83854, val_loss = 0.42244, val_acc = 0.79167\n",
      "[ 58/100 ] | train_loss = 0.41304, train_acc = 0.84375, val_loss = 0.39960, val_acc = 0.79167\n",
      "[ 59/100 ] | train_loss = 0.41572, train_acc = 0.84375, val_loss = 0.44397, val_acc = 0.80208\n",
      "[ 60/100 ] | train_loss = 0.41091, train_acc = 0.83333, val_loss = 0.39475, val_acc = 0.81250\n",
      "[ 61/100 ] | train_loss = 0.41213, train_acc = 0.84375, val_loss = 0.40361, val_acc = 0.81250\n",
      "[ 62/100 ] | train_loss = 0.40800, train_acc = 0.84115, val_loss = 0.43037, val_acc = 0.81250\n",
      "[ 63/100 ] | train_loss = 0.40537, train_acc = 0.84375, val_loss = 0.41579, val_acc = 0.81250\n",
      "[ 64/100 ] | train_loss = 0.40449, train_acc = 0.83854, val_loss = 0.37562, val_acc = 0.81250\n",
      "[ 65/100 ] | train_loss = 0.40258, train_acc = 0.83854, val_loss = 0.38732, val_acc = 0.81250\n",
      "[ 66/100 ] | train_loss = 0.40151, train_acc = 0.84375, val_loss = 0.41969, val_acc = 0.81250\n",
      "[ 67/100 ] | train_loss = 0.39908, train_acc = 0.84635, val_loss = 0.38078, val_acc = 0.81250\n",
      "[ 68/100 ] | train_loss = 0.40065, train_acc = 0.84635, val_loss = 0.35836, val_acc = 0.81250\n",
      "[ 69/100 ] | train_loss = 0.39521, train_acc = 0.85156, val_loss = 0.40610, val_acc = 0.81250\n",
      "[ 70/100 ] | train_loss = 0.39438, train_acc = 0.84115, val_loss = 0.42099, val_acc = 0.80208\n",
      "[ 71/100 ] | train_loss = 0.39219, train_acc = 0.83854, val_loss = 0.38525, val_acc = 0.80208\n",
      "[ 72/100 ] | train_loss = 0.39174, train_acc = 0.84375, val_loss = 0.36627, val_acc = 0.79167\n",
      "[ 73/100 ] | train_loss = 0.39075, train_acc = 0.84375, val_loss = 0.42570, val_acc = 0.79167\n",
      "[ 74/100 ] | train_loss = 0.38868, train_acc = 0.84375, val_loss = 0.38773, val_acc = 0.79167\n",
      "[ 75/100 ] | train_loss = 0.38715, train_acc = 0.84375, val_loss = 0.38073, val_acc = 0.79167\n",
      "[ 76/100 ] | train_loss = 0.38873, train_acc = 0.84635, val_loss = 0.37643, val_acc = 0.79167\n",
      "[ 77/100 ] | train_loss = 0.38440, train_acc = 0.84635, val_loss = 0.36064, val_acc = 0.79167\n",
      "[ 78/100 ] | train_loss = 0.38511, train_acc = 0.83594, val_loss = 0.38601, val_acc = 0.79167\n",
      "[ 79/100 ] | train_loss = 0.38535, train_acc = 0.84375, val_loss = 0.36646, val_acc = 0.78125\n",
      "[ 80/100 ] | train_loss = 0.38206, train_acc = 0.84635, val_loss = 0.36331, val_acc = 0.78125\n",
      "[ 81/100 ] | train_loss = 0.37934, train_acc = 0.84896, val_loss = 0.37436, val_acc = 0.78125\n",
      "[ 82/100 ] | train_loss = 0.37826, train_acc = 0.84896, val_loss = 0.37860, val_acc = 0.78125\n",
      "[ 83/100 ] | train_loss = 0.38005, train_acc = 0.84115, val_loss = 0.35980, val_acc = 0.78125\n",
      "[ 84/100 ] | train_loss = 0.37815, train_acc = 0.83073, val_loss = 0.39962, val_acc = 0.78125\n",
      "[ 85/100 ] | train_loss = 0.37391, train_acc = 0.85156, val_loss = 0.36633, val_acc = 0.78125\n",
      "[ 86/100 ] | train_loss = 0.37421, train_acc = 0.84635, val_loss = 0.36438, val_acc = 0.78125\n",
      "[ 87/100 ] | train_loss = 0.37166, train_acc = 0.85417, val_loss = 0.36944, val_acc = 0.78125\n",
      "[ 88/100 ] | train_loss = 0.37530, train_acc = 0.83854, val_loss = 0.37886, val_acc = 0.78125\n",
      "[ 89/100 ] | train_loss = 0.36812, train_acc = 0.83594, val_loss = 0.37921, val_acc = 0.78125\n",
      "[ 90/100 ] | train_loss = 0.36998, train_acc = 0.84896, val_loss = 0.34060, val_acc = 0.78125\n",
      "[ 91/100 ] | train_loss = 0.36963, train_acc = 0.85156, val_loss = 0.37835, val_acc = 0.78125\n",
      "[ 92/100 ] | train_loss = 0.36749, train_acc = 0.85417, val_loss = 0.36817, val_acc = 0.78125\n",
      "[ 93/100 ] | train_loss = 0.36543, train_acc = 0.85156, val_loss = 0.39915, val_acc = 0.78125\n",
      "[ 94/100 ] | train_loss = 0.36995, train_acc = 0.82812, val_loss = 0.37027, val_acc = 0.78125\n",
      "[ 95/100 ] | train_loss = 0.36307, train_acc = 0.84635, val_loss = 0.34571, val_acc = 0.78125\n",
      "[ 96/100 ] | train_loss = 0.36057, train_acc = 0.85677, val_loss = 0.37082, val_acc = 0.78125\n",
      "[ 97/100 ] | train_loss = 0.36239, train_acc = 0.85677, val_loss = 0.33016, val_acc = 0.78125\n",
      "[ 98/100 ] | train_loss = 0.36121, train_acc = 0.85417, val_loss = 0.36211, val_acc = 0.78125\n",
      "[ 99/100 ] | train_loss = 0.36450, train_acc = 0.85677, val_loss = 0.37195, val_acc = 0.78125\n",
      "[ 100/100 ] | train_loss = 0.35954, train_acc = 0.85677, val_loss = 0.34137, val_acc = 0.78125\n"
     ]
    }
   ],
   "source": [
    "model = train(train_loader=train_loader, val_loader=val_loader, model=test_model, epochs=100, optimizer=optimizer, criterion=criterion, device=device)"
   ]
  },
  {
   "cell_type": "code",
   "execution_count": 13,
   "metadata": {},
   "outputs": [],
   "source": [
    "test_2 = []\n",
    "for index, item in enumerate(test):\n",
    "    if item < 3:\n",
    "        test_2.append([index, item])"
   ]
  },
  {
   "cell_type": "code",
   "execution_count": 14,
   "metadata": {},
   "outputs": [
    {
     "data": {
      "text/plain": [
       "[[0, 0], [1, 1], [2, 2], [5, 0], [6, 1], [7, 2]]"
      ]
     },
     "execution_count": 14,
     "metadata": {},
     "output_type": "execute_result"
    }
   ],
   "source": [
    "test_2"
   ]
  },
  {
   "cell_type": "code",
   "execution_count": 40,
   "metadata": {},
   "outputs": [
    {
     "name": "stdout",
     "output_type": "stream",
     "text": [
      "torch.Size([128, 12])\n",
      "torch.Size([128])\n",
      "torch.Size([128, 12])\n",
      "torch.Size([128])\n",
      "torch.Size([128, 12])\n",
      "torch.Size([128])\n"
     ]
    }
   ],
   "source": [
    "model.eval()\n",
    "valid_loss = []\n",
    "\n",
    "for i, batch in enumerate(train_loader):\n",
    "    x, y = batch\n",
    "    print(x.shape)\n",
    "    print(y.shape)\n",
    "    with torch.no_grad():\n",
    "        logits = model(x.to(device))\n",
    "        loss = criterion(logits, y.to(device).unsqueeze(1))\n",
    "        valid_loss.append(loss.item())"
   ]
  },
  {
   "cell_type": "code",
   "execution_count": 26,
   "metadata": {},
   "outputs": [
    {
     "data": {
      "text/plain": [
       "[0.3376418948173523, 0.3637465238571167, 0.36652877926826477]"
      ]
     },
     "execution_count": 26,
     "metadata": {},
     "output_type": "execute_result"
    }
   ],
   "source": [
    "valid_loss"
   ]
  },
  {
   "cell_type": "code",
   "execution_count": 87,
   "metadata": {},
   "outputs": [],
   "source": [
    "model.eval()\n",
    "valid_loss = []\n",
    "\n",
    "\n",
    "for i, data in enumerate(train_loader.dataset):\n",
    "    x, y = data[0].view(-1, 12), data[1].view(-1)\n",
    "    with torch.no_grad():\n",
    "        logits = model(x.to(device))\n",
    "        loss = criterion(logits, y.to(device).unsqueeze(1))\n",
    "        valid_loss.append((i, loss.item()))"
   ]
  },
  {
   "cell_type": "code",
   "execution_count": 94,
   "metadata": {},
   "outputs": [],
   "source": [
    "picked_loss = []\n",
    "for item in valid_loss:\n",
    "    if item[1] < 0.0273:\n",
    "        picked_loss.append(item)"
   ]
  },
  {
   "cell_type": "code",
   "execution_count": 95,
   "metadata": {},
   "outputs": [
    {
     "data": {
      "text/plain": [
       "[(469, 0.018786944448947906),\n",
       " (365, 0.019591515883803368),\n",
       " (369, 0.019591515883803368),\n",
       " (372, 0.019591515883803368),\n",
       " (373, 0.019591515883803368),\n",
       " (479, 0.02270965650677681),\n",
       " (474, 0.023401854559779167),\n",
       " (366, 0.025850633159279823),\n",
       " (470, 0.026753077283501625),\n",
       " (477, 0.027251092717051506)]"
      ]
     },
     "execution_count": 95,
     "metadata": {},
     "output_type": "execute_result"
    }
   ],
   "source": [
    "picked_loss"
   ]
  },
  {
   "cell_type": "code",
   "execution_count": 100,
   "metadata": {},
   "outputs": [],
   "source": [
    "index = [i for i, item in picked_loss]"
   ]
  },
  {
   "cell_type": "code",
   "execution_count": 88,
   "metadata": {},
   "outputs": [],
   "source": [
    "valid_loss.sort(key=lambda x: x[1])"
   ]
  },
  {
   "cell_type": "code",
   "execution_count": 91,
   "metadata": {},
   "outputs": [
    {
     "data": {
      "text/plain": [
       "[(469, 0.018786944448947906),\n",
       " (365, 0.019591515883803368),\n",
       " (369, 0.019591515883803368),\n",
       " (372, 0.019591515883803368),\n",
       " (373, 0.019591515883803368),\n",
       " (479, 0.02270965650677681),\n",
       " (474, 0.023401854559779167),\n",
       " (366, 0.025850633159279823),\n",
       " (470, 0.026753077283501625),\n",
       " (477, 0.027251092717051506)]"
      ]
     },
     "execution_count": 91,
     "metadata": {},
     "output_type": "execute_result"
    }
   ],
   "source": [
    "valid_loss[:10]"
   ]
  },
  {
   "cell_type": "code",
   "execution_count": 89,
   "metadata": {},
   "outputs": [
    {
     "data": {
      "text/plain": [
       "160"
      ]
     },
     "execution_count": 89,
     "metadata": {},
     "output_type": "execute_result"
    }
   ],
   "source": [
    "len(valid_loss[:160])"
   ]
  },
  {
   "cell_type": "code",
   "execution_count": 71,
   "metadata": {},
   "outputs": [
    {
     "data": {
      "text/plain": [
       "480"
      ]
     },
     "execution_count": 71,
     "metadata": {},
     "output_type": "execute_result"
    }
   ],
   "source": [
    "len(train_loader.dataset)"
   ]
  },
  {
   "cell_type": "code",
   "execution_count": 110,
   "metadata": {},
   "outputs": [],
   "source": [
    "from torch.utils.data import Subset, DataLoader"
   ]
  },
  {
   "cell_type": "code",
   "execution_count": 103,
   "metadata": {},
   "outputs": [],
   "source": [
    "new_train_dataset = Subset(train_loader.dataset, index)"
   ]
  },
  {
   "cell_type": "code",
   "execution_count": 111,
   "metadata": {},
   "outputs": [],
   "source": [
    "new_dataloader = DataLoader(new_train_dataset, train_loader.batch_size)"
   ]
  },
  {
   "cell_type": "code",
   "execution_count": 113,
   "metadata": {},
   "outputs": [
    {
     "data": {
      "text/plain": [
       "[tensor([[-0.0920, -0.0428, -0.8002, -0.7843,  2.5858,  2.3229, -1.0560, -0.6572,\n",
       "           2.3386,  1.0564,  2.1492,  2.0137],\n",
       "         [-0.3663, -0.2966,  2.3515, -0.5910,  0.1528,  0.6837, -0.7335, -0.5271,\n",
       "           0.6465,  1.8232, -2.6880, -2.0541],\n",
       "         [-1.0925, -0.7333, -3.5575,  1.1864,  0.2222,  0.7407, -0.9812, -0.0716,\n",
       "           0.1605,  3.5938, -5.8611, -4.5000],\n",
       "         [-0.4874, -0.1342, -0.1102, -3.7465,  0.3704,  0.8449, -1.1786,  1.4901,\n",
       "          -0.0626,  2.2530, -1.8190, -4.5119],\n",
       "         [-0.6326, -0.2357,  0.2342, -1.2005,  0.3343,  0.8533, -1.1618,  1.7504,\n",
       "          -0.2044,  2.5882, -3.0543, -5.0122],\n",
       "         [ 0.5696,  0.4853, -0.2694,  0.4319,  2.9502,  2.5087, -0.9019, -1.3079,\n",
       "           2.8226,  0.9471,  1.2030,  2.1932],\n",
       "         [ 0.4324,  0.5462, -0.6352, -0.4485,  2.8277,  2.4056, -0.9381, -0.9175,\n",
       "           2.5051,  0.8889,  0.9921,  1.7321],\n",
       "         [-0.4793, -0.3373,  1.3179, -1.0128,  0.1658,  0.6876, -0.7311, -0.2668,\n",
       "           0.6268,  2.6161, -1.7956, -2.0172],\n",
       "         [ 0.0371,  0.0689, -1.3827,  0.5834,  2.7376,  2.3781, -1.0246, -0.9175,\n",
       "           2.3371,  1.4023,  0.7426,  1.6957],\n",
       "         [ 0.4002,  0.4345, -0.6540,  2.0381,  2.8896,  2.4525, -0.9381, -1.3730,\n",
       "           2.6690,  1.1041,  1.5931,  1.8928]], device='cuda:0'),\n",
       " tensor([1., 0., 0., 0., 0., 1., 1., 0., 1., 1.], device='cuda:0')]"
      ]
     },
     "execution_count": 113,
     "metadata": {},
     "output_type": "execute_result"
    }
   ],
   "source": [
    "next(iter(new_dataloader))"
   ]
  },
  {
   "cell_type": "code",
   "execution_count": 108,
   "metadata": {},
   "outputs": [
    {
     "data": {
      "text/plain": [
       "(tensor([-0.0920, -0.0428, -0.8002, -0.7843,  2.5858,  2.3229, -1.0560, -0.6572,\n",
       "          2.3386,  1.0564,  2.1492,  2.0137], device='cuda:0'),\n",
       " tensor(1., device='cuda:0'))"
      ]
     },
     "execution_count": 108,
     "metadata": {},
     "output_type": "execute_result"
    }
   ],
   "source": [
    "new_train_dataset[0]"
   ]
  },
  {
   "cell_type": "code",
   "execution_count": 77,
   "metadata": {},
   "outputs": [],
   "source": [
    "index = [i for i, item in valid_loss]\n"
   ]
  },
  {
   "cell_type": "code",
   "execution_count": 109,
   "metadata": {},
   "outputs": [
    {
     "data": {
      "text/plain": [
       "128"
      ]
     },
     "execution_count": 109,
     "metadata": {},
     "output_type": "execute_result"
    }
   ],
   "source": [
    "train_loader.batch_size"
   ]
  },
  {
   "cell_type": "code",
   "execution_count": 86,
   "metadata": {},
   "outputs": [
    {
     "data": {
      "text/plain": [
       "480"
      ]
     },
     "execution_count": 86,
     "metadata": {},
     "output_type": "execute_result"
    }
   ],
   "source": [
    "len(index)"
   ]
  },
  {
   "cell_type": "code",
   "execution_count": 85,
   "metadata": {},
   "outputs": [
    {
     "data": {
      "text/plain": [
       "(tensor([[-0.0920, -0.0428, -0.8002,  ...,  1.0564,  2.1492,  2.0137],\n",
       "         [-0.3663, -0.2966,  2.3515,  ...,  1.8232, -2.6880, -2.0541],\n",
       "         [-1.0925, -0.7333, -3.5575,  ...,  3.5938, -5.8611, -4.5000],\n",
       "         ...,\n",
       "         [-0.9473, -0.2052, -0.8941,  ...,  1.5301, -0.9284,  0.6381],\n",
       "         [-0.8827, -0.5505,  0.4689,  ..., -0.0167, -1.3415, -1.6768],\n",
       "         [-1.0844, -0.4693,  0.0914,  ...,  1.4068, -0.1677,  1.2303]],\n",
       "        device='cuda:0'),\n",
       " tensor([1., 0., 0., 0., 0., 1., 1., 0., 1., 1., 1., 1., 1., 1., 1., 1., 1., 1.,\n",
       "         1., 0., 1., 1., 1., 0., 0., 0., 1., 1., 1., 1., 1., 1., 1., 1., 0., 0.,\n",
       "         1., 1., 1., 0., 1., 0., 1., 1., 1., 1., 1., 0., 1., 1., 1., 0., 1., 1.,\n",
       "         0., 1., 1., 1., 1., 1., 1., 1., 1., 1., 1., 0., 1., 1., 1., 1., 1., 1.,\n",
       "         1., 1., 1., 1., 1., 1., 1., 1., 1., 1., 1., 1., 0., 1., 1., 1., 1., 1.,\n",
       "         1., 1., 1., 1., 1., 0., 1., 1., 1., 1., 1., 1., 1., 1., 0., 1., 1., 1.,\n",
       "         1., 1., 1., 1., 1., 1., 1., 1., 1., 1., 1., 1., 1., 0., 1., 1., 1., 1.,\n",
       "         1., 1., 1., 1., 1., 1., 1., 0., 1., 1., 1., 0., 1., 1., 1., 1., 1., 1.,\n",
       "         1., 1., 1., 1., 0., 1., 1., 1., 1., 1., 1., 1., 1., 0., 0., 1., 1., 1.,\n",
       "         1., 0., 1., 1., 1., 1., 1., 0., 1., 1., 1., 1., 1., 0., 1., 1., 1., 0.,\n",
       "         1., 0., 1., 1., 1., 1., 1., 1., 1., 1., 1., 1., 1., 1., 1., 1., 1., 1.,\n",
       "         1., 1., 1., 1., 1., 1., 1., 1., 1., 1., 1., 1., 1., 1., 1., 1., 1., 1.,\n",
       "         1., 1., 1., 1., 0., 1., 1., 1., 1., 1., 1., 1., 1., 1., 1., 1., 0., 1.,\n",
       "         1., 0., 1., 1., 1., 1., 1., 1., 1., 1., 1., 1., 1., 1., 1., 1., 1., 1.,\n",
       "         1., 1., 1., 1., 1., 1., 1., 1., 1., 1., 1., 1., 1., 1., 1., 1., 1., 1.,\n",
       "         1., 1., 1., 1., 1., 1., 1., 1., 1., 1., 1., 1., 1., 1., 1., 1., 1., 0.,\n",
       "         1., 1., 0., 1., 1., 1., 1., 1., 1., 1., 1., 1., 1., 1., 1., 1., 1., 1.,\n",
       "         1., 0., 1., 1., 0., 1., 1., 1., 1., 1., 1., 1., 1., 1., 1., 1., 1., 1.,\n",
       "         1., 1., 1., 1., 1., 1., 0., 1., 1., 1., 1., 1., 1., 1., 1., 1., 1., 1.,\n",
       "         1., 1., 1., 0., 1., 1., 0., 1., 1., 1., 1., 1., 1., 1., 1., 1., 1., 1.,\n",
       "         1., 1., 1., 1., 1., 1., 0., 1., 0., 0., 1., 1., 1., 1., 1., 1., 1., 1.,\n",
       "         1., 1., 1., 1., 1., 0., 0., 1., 0., 0., 1., 1., 1., 1., 0., 0., 0., 0.,\n",
       "         1., 1., 1., 0., 0., 1., 0., 1., 1., 1., 1., 1., 0., 1., 1., 0., 0., 1.,\n",
       "         0., 0., 1., 1., 1., 1., 1., 1., 0., 0., 0., 1., 0., 0., 0., 0., 1., 1.,\n",
       "         1., 0., 0., 0., 0., 1., 1., 1., 0., 1., 1., 1., 1., 0., 0., 0., 1., 0.,\n",
       "         0., 0., 1., 1., 0., 1., 1., 0., 0., 0., 0., 0., 1., 0., 1., 0., 0., 0.,\n",
       "         1., 0., 0., 0., 1., 0., 1., 1., 1., 0., 1., 0.], device='cuda:0'))"
      ]
     },
     "execution_count": 85,
     "metadata": {},
     "output_type": "execute_result"
    }
   ],
   "source": [
    "train_loader.dataset[index]"
   ]
  },
  {
   "cell_type": "code",
   "execution_count": null,
   "metadata": {},
   "outputs": [],
   "source": []
  }
 ],
 "metadata": {
  "interpreter": {
   "hash": "219da6a50c866249bdfc07e8ee29701a3e2568a26ff21cc98a0eb284d1611ca6"
  },
  "kernelspec": {
   "display_name": "Python 3.7.6 64-bit",
   "language": "python",
   "name": "python3"
  },
  "language_info": {
   "codemirror_mode": {
    "name": "ipython",
    "version": 3
   },
   "file_extension": ".py",
   "mimetype": "text/x-python",
   "name": "python",
   "nbconvert_exporter": "python",
   "pygments_lexer": "ipython3",
   "version": "3.7.6"
  },
  "orig_nbformat": 4
 },
 "nbformat": 4,
 "nbformat_minor": 2
}
