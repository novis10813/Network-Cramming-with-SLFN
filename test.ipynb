{
 "cells": [
  {
   "cell_type": "code",
   "execution_count": 1,
   "metadata": {},
   "outputs": [],
   "source": [
    "import copy\n",
    "import torch\n",
    "import torch.nn as nn\n",
    "import torch.optim as optim\n",
    "\n",
    "from DataPreprocess import create_dataloader\n",
    "from InitializingModule import InitModel\n",
    "from TrainingAlgorithm import train"
   ]
  },
  {
   "cell_type": "code",
   "execution_count": 2,
   "metadata": {},
   "outputs": [],
   "source": [
    "train_loader, val_loader = create_dataloader(datapath='data/SPECT_data.txt', batch_size=128)"
   ]
  },
  {
   "cell_type": "code",
   "execution_count": 6,
   "metadata": {},
   "outputs": [],
   "source": [
    "device = torch.device('cuda')\n",
    "a = InitModel(input_size=22, hidden_size=3, output_size=1, device=device, batch_norm=True)\n",
    "test_model = a.init_module_multi_ReLU_AE(train_loader)\n",
    "optimizer = optim.Adam(test_model.parameters(), lr=1e-3)\n",
    "criterion = nn.BCEWithLogitsLoss()"
   ]
  },
  {
   "cell_type": "code",
   "execution_count": 7,
   "metadata": {},
   "outputs": [
    {
     "name": "stdout",
     "output_type": "stream",
     "text": [
      "[ 1/100 ] | train_loss = 0.59976, train_acc = 0.63994, val_loss = 0.59754, val_acc = 0.64815\n",
      "[ 2/100 ] | train_loss = 0.59844, train_acc = 0.65363, val_loss = 0.59612, val_acc = 0.64815\n",
      "[ 3/100 ] | train_loss = 0.59713, train_acc = 0.66342, val_loss = 0.59461, val_acc = 0.66667\n",
      "[ 4/100 ] | train_loss = 0.59583, train_acc = 0.66342, val_loss = 0.59309, val_acc = 0.66667\n",
      "[ 5/100 ] | train_loss = 0.59453, train_acc = 0.66733, val_loss = 0.59153, val_acc = 0.66667\n",
      "[ 6/100 ] | train_loss = 0.59322, train_acc = 0.67321, val_loss = 0.58997, val_acc = 0.66667\n",
      "[ 7/100 ] | train_loss = 0.59188, train_acc = 0.68300, val_loss = 0.58837, val_acc = 0.66667\n",
      "[ 8/100 ] | train_loss = 0.59055, train_acc = 0.68690, val_loss = 0.58677, val_acc = 0.66667\n",
      "[ 9/100 ] | train_loss = 0.58921, train_acc = 0.69278, val_loss = 0.58519, val_acc = 0.68519\n",
      "[ 10/100 ] | train_loss = 0.58788, train_acc = 0.70257, val_loss = 0.58360, val_acc = 0.68519\n",
      "[ 11/100 ] | train_loss = 0.58654, train_acc = 0.70257, val_loss = 0.58202, val_acc = 0.68519\n",
      "[ 12/100 ] | train_loss = 0.58522, train_acc = 0.70257, val_loss = 0.58045, val_acc = 0.70370\n",
      "[ 13/100 ] | train_loss = 0.58388, train_acc = 0.70846, val_loss = 0.57888, val_acc = 0.72222\n",
      "[ 14/100 ] | train_loss = 0.58254, train_acc = 0.71236, val_loss = 0.57727, val_acc = 0.70370\n",
      "[ 15/100 ] | train_loss = 0.58119, train_acc = 0.71236, val_loss = 0.57566, val_acc = 0.70370\n",
      "[ 16/100 ] | train_loss = 0.57985, train_acc = 0.71236, val_loss = 0.57405, val_acc = 0.70370\n",
      "[ 17/100 ] | train_loss = 0.57848, train_acc = 0.72413, val_loss = 0.57242, val_acc = 0.70370\n",
      "[ 18/100 ] | train_loss = 0.57713, train_acc = 0.72022, val_loss = 0.57080, val_acc = 0.70370\n",
      "[ 19/100 ] | train_loss = 0.57576, train_acc = 0.72610, val_loss = 0.56919, val_acc = 0.70370\n",
      "[ 20/100 ] | train_loss = 0.57438, train_acc = 0.72610, val_loss = 0.56757, val_acc = 0.72222\n",
      "[ 21/100 ] | train_loss = 0.57298, train_acc = 0.73199, val_loss = 0.56594, val_acc = 0.72222\n",
      "[ 22/100 ] | train_loss = 0.57159, train_acc = 0.73787, val_loss = 0.56430, val_acc = 0.72222\n",
      "[ 23/100 ] | train_loss = 0.57021, train_acc = 0.74177, val_loss = 0.56269, val_acc = 0.72222\n",
      "[ 24/100 ] | train_loss = 0.56881, train_acc = 0.74177, val_loss = 0.56106, val_acc = 0.72222\n",
      "[ 25/100 ] | train_loss = 0.56743, train_acc = 0.74177, val_loss = 0.55949, val_acc = 0.72222\n",
      "[ 26/100 ] | train_loss = 0.56606, train_acc = 0.74177, val_loss = 0.55792, val_acc = 0.72222\n",
      "[ 27/100 ] | train_loss = 0.56467, train_acc = 0.74177, val_loss = 0.55637, val_acc = 0.72222\n",
      "[ 28/100 ] | train_loss = 0.56328, train_acc = 0.74766, val_loss = 0.55482, val_acc = 0.72222\n",
      "[ 29/100 ] | train_loss = 0.56187, train_acc = 0.74766, val_loss = 0.55327, val_acc = 0.72222\n",
      "[ 30/100 ] | train_loss = 0.56044, train_acc = 0.75156, val_loss = 0.55167, val_acc = 0.72222\n",
      "[ 31/100 ] | train_loss = 0.55900, train_acc = 0.75156, val_loss = 0.55008, val_acc = 0.72222\n",
      "[ 32/100 ] | train_loss = 0.55755, train_acc = 0.75547, val_loss = 0.54846, val_acc = 0.72222\n",
      "[ 33/100 ] | train_loss = 0.55608, train_acc = 0.75547, val_loss = 0.54681, val_acc = 0.72222\n",
      "[ 34/100 ] | train_loss = 0.55462, train_acc = 0.75547, val_loss = 0.54520, val_acc = 0.72222\n",
      "[ 35/100 ] | train_loss = 0.55316, train_acc = 0.75547, val_loss = 0.54361, val_acc = 0.72222\n",
      "[ 36/100 ] | train_loss = 0.55167, train_acc = 0.75547, val_loss = 0.54194, val_acc = 0.72222\n",
      "[ 37/100 ] | train_loss = 0.55021, train_acc = 0.75547, val_loss = 0.54030, val_acc = 0.72222\n",
      "[ 38/100 ] | train_loss = 0.54871, train_acc = 0.75547, val_loss = 0.53862, val_acc = 0.72222\n",
      "[ 39/100 ] | train_loss = 0.54722, train_acc = 0.75547, val_loss = 0.53692, val_acc = 0.72222\n",
      "[ 40/100 ] | train_loss = 0.54574, train_acc = 0.75156, val_loss = 0.53525, val_acc = 0.72222\n",
      "[ 41/100 ] | train_loss = 0.54423, train_acc = 0.76333, val_loss = 0.53354, val_acc = 0.72222\n",
      "[ 42/100 ] | train_loss = 0.54268, train_acc = 0.76723, val_loss = 0.53183, val_acc = 0.72222\n",
      "[ 43/100 ] | train_loss = 0.54114, train_acc = 0.77114, val_loss = 0.53014, val_acc = 0.72222\n",
      "[ 44/100 ] | train_loss = 0.53956, train_acc = 0.77505, val_loss = 0.52843, val_acc = 0.72222\n",
      "[ 45/100 ] | train_loss = 0.53797, train_acc = 0.77505, val_loss = 0.52671, val_acc = 0.72222\n",
      "[ 46/100 ] | train_loss = 0.53639, train_acc = 0.77505, val_loss = 0.52505, val_acc = 0.72222\n",
      "[ 47/100 ] | train_loss = 0.53479, train_acc = 0.78093, val_loss = 0.52338, val_acc = 0.72222\n",
      "[ 48/100 ] | train_loss = 0.53319, train_acc = 0.78093, val_loss = 0.52171, val_acc = 0.72222\n",
      "[ 49/100 ] | train_loss = 0.53156, train_acc = 0.79072, val_loss = 0.52003, val_acc = 0.72222\n",
      "[ 50/100 ] | train_loss = 0.52994, train_acc = 0.79072, val_loss = 0.51831, val_acc = 0.72222\n",
      "[ 51/100 ] | train_loss = 0.52834, train_acc = 0.79462, val_loss = 0.51665, val_acc = 0.74074\n",
      "[ 52/100 ] | train_loss = 0.52675, train_acc = 0.79462, val_loss = 0.51500, val_acc = 0.74074\n",
      "[ 53/100 ] | train_loss = 0.52513, train_acc = 0.79462, val_loss = 0.51333, val_acc = 0.79630\n",
      "[ 54/100 ] | train_loss = 0.52353, train_acc = 0.79462, val_loss = 0.51170, val_acc = 0.79630\n",
      "[ 55/100 ] | train_loss = 0.52193, train_acc = 0.79462, val_loss = 0.51007, val_acc = 0.79630\n",
      "[ 56/100 ] | train_loss = 0.52031, train_acc = 0.79462, val_loss = 0.50842, val_acc = 0.79630\n",
      "[ 57/100 ] | train_loss = 0.51868, train_acc = 0.79462, val_loss = 0.50676, val_acc = 0.79630\n",
      "[ 58/100 ] | train_loss = 0.51705, train_acc = 0.79462, val_loss = 0.50511, val_acc = 0.79630\n",
      "[ 59/100 ] | train_loss = 0.51542, train_acc = 0.79853, val_loss = 0.50349, val_acc = 0.79630\n",
      "[ 60/100 ] | train_loss = 0.51377, train_acc = 0.80441, val_loss = 0.50181, val_acc = 0.79630\n",
      "[ 61/100 ] | train_loss = 0.51205, train_acc = 0.80441, val_loss = 0.50006, val_acc = 0.77778\n",
      "[ 62/100 ] | train_loss = 0.51038, train_acc = 0.80441, val_loss = 0.49837, val_acc = 0.79630\n",
      "[ 63/100 ] | train_loss = 0.50868, train_acc = 0.80832, val_loss = 0.49667, val_acc = 0.79630\n",
      "[ 64/100 ] | train_loss = 0.50696, train_acc = 0.80832, val_loss = 0.49494, val_acc = 0.79630\n",
      "[ 65/100 ] | train_loss = 0.50517, train_acc = 0.81613, val_loss = 0.49316, val_acc = 0.79630\n",
      "[ 66/100 ] | train_loss = 0.50339, train_acc = 0.82004, val_loss = 0.49141, val_acc = 0.79630\n",
      "[ 67/100 ] | train_loss = 0.50157, train_acc = 0.82394, val_loss = 0.48962, val_acc = 0.81481\n",
      "[ 68/100 ] | train_loss = 0.49976, train_acc = 0.82394, val_loss = 0.48787, val_acc = 0.83333\n",
      "[ 69/100 ] | train_loss = 0.49793, train_acc = 0.82785, val_loss = 0.48608, val_acc = 0.87037\n",
      "[ 70/100 ] | train_loss = 0.49608, train_acc = 0.82785, val_loss = 0.48429, val_acc = 0.87037\n",
      "[ 71/100 ] | train_loss = 0.49421, train_acc = 0.82785, val_loss = 0.48252, val_acc = 0.87037\n",
      "[ 72/100 ] | train_loss = 0.49235, train_acc = 0.82785, val_loss = 0.48079, val_acc = 0.87037\n",
      "[ 73/100 ] | train_loss = 0.49052, train_acc = 0.82785, val_loss = 0.47907, val_acc = 0.87037\n",
      "[ 74/100 ] | train_loss = 0.48870, train_acc = 0.82785, val_loss = 0.47739, val_acc = 0.85185\n",
      "[ 75/100 ] | train_loss = 0.48686, train_acc = 0.82785, val_loss = 0.47568, val_acc = 0.85185\n",
      "[ 76/100 ] | train_loss = 0.48502, train_acc = 0.82785, val_loss = 0.47395, val_acc = 0.85185\n",
      "[ 77/100 ] | train_loss = 0.48318, train_acc = 0.82785, val_loss = 0.47219, val_acc = 0.85185\n",
      "[ 78/100 ] | train_loss = 0.48134, train_acc = 0.83957, val_loss = 0.47042, val_acc = 0.85185\n",
      "[ 79/100 ] | train_loss = 0.47946, train_acc = 0.83957, val_loss = 0.46859, val_acc = 0.87037\n",
      "[ 80/100 ] | train_loss = 0.47753, train_acc = 0.83957, val_loss = 0.46667, val_acc = 0.87037\n",
      "[ 81/100 ] | train_loss = 0.47556, train_acc = 0.83957, val_loss = 0.46473, val_acc = 0.87037\n",
      "[ 82/100 ] | train_loss = 0.47359, train_acc = 0.83957, val_loss = 0.46277, val_acc = 0.87037\n",
      "[ 83/100 ] | train_loss = 0.47163, train_acc = 0.84545, val_loss = 0.46082, val_acc = 0.88889\n",
      "[ 84/100 ] | train_loss = 0.46968, train_acc = 0.84347, val_loss = 0.45880, val_acc = 0.88889\n",
      "[ 85/100 ] | train_loss = 0.46779, train_acc = 0.84347, val_loss = 0.45685, val_acc = 0.88889\n",
      "[ 86/100 ] | train_loss = 0.46583, train_acc = 0.84347, val_loss = 0.45480, val_acc = 0.88889\n",
      "[ 87/100 ] | train_loss = 0.46391, train_acc = 0.84347, val_loss = 0.45280, val_acc = 0.88889\n",
      "[ 88/100 ] | train_loss = 0.46200, train_acc = 0.84347, val_loss = 0.45086, val_acc = 0.88889\n",
      "[ 89/100 ] | train_loss = 0.46009, train_acc = 0.84738, val_loss = 0.44893, val_acc = 0.88889\n",
      "[ 90/100 ] | train_loss = 0.45818, train_acc = 0.85129, val_loss = 0.44700, val_acc = 0.88889\n",
      "[ 91/100 ] | train_loss = 0.45628, train_acc = 0.85129, val_loss = 0.44508, val_acc = 0.88889\n",
      "[ 92/100 ] | train_loss = 0.45445, train_acc = 0.85717, val_loss = 0.44319, val_acc = 0.88889\n",
      "[ 93/100 ] | train_loss = 0.45263, train_acc = 0.85717, val_loss = 0.44128, val_acc = 0.88889\n",
      "[ 94/100 ] | train_loss = 0.45080, train_acc = 0.85717, val_loss = 0.43932, val_acc = 0.88889\n",
      "[ 95/100 ] | train_loss = 0.44898, train_acc = 0.86108, val_loss = 0.43739, val_acc = 0.88889\n",
      "[ 96/100 ] | train_loss = 0.44722, train_acc = 0.86108, val_loss = 0.43556, val_acc = 0.88889\n",
      "[ 97/100 ] | train_loss = 0.44553, train_acc = 0.86108, val_loss = 0.43379, val_acc = 0.88889\n",
      "[ 98/100 ] | train_loss = 0.44388, train_acc = 0.86108, val_loss = 0.43208, val_acc = 0.88889\n",
      "[ 99/100 ] | train_loss = 0.44230, train_acc = 0.86108, val_loss = 0.43040, val_acc = 0.88889\n",
      "[ 100/100 ] | train_loss = 0.44063, train_acc = 0.86108, val_loss = 0.42857, val_acc = 0.88889\n"
     ]
    }
   ],
   "source": [
    "model = train(train_loader=train_loader, val_loader=val_loader, model=test_model, epochs=100, optimizer=optimizer, criterion=criterion, device=device)"
   ]
  },
  {
   "cell_type": "code",
   "execution_count": 8,
   "metadata": {},
   "outputs": [],
   "source": [
    "def predict(model, data_loader, criterion, device):\n",
    "    \n",
    "    model.to(device).eval()\n",
    "    mem = []\n",
    "    with torch.no_grad():\n",
    "        for i, data in enumerate(data_loader.dataset):\n",
    "            x, y = data[0].unsqueeze(0), data[1]\n",
    "            y_pred = torch.round(torch.sigmoid(model(x))).squeeze()\n",
    "            loss = criterion(y, y_pred)\n",
    "            \n",
    "            if y_pred != y:\n",
    "                mem.append((i, loss.item()))\n",
    "                \n",
    "    return max(mem, key=lambda mem: mem[1])[0]\n",
    "\n",
    "\n",
    "def binary_acc(y_pred, y_true):\n",
    "    y_pred_tag = torch.round(torch.sigmoid(y_pred))\n",
    "    correct_result_sum = (y_pred_tag == y_true).sum().float()\n",
    "    acc = correct_result_sum / y_true.shape[0]\n",
    "    \n",
    "    return acc\n",
    "\n",
    "\n",
    "def evaluate(train_loader=None, model=None, criterion=None, device=None, binary=True):\n",
    "    \n",
    "    model.to(device).eval()\n",
    "    valid_loss = []\n",
    "    valid_accs = []\n",
    "\n",
    "    for i, batch in enumerate(train_loader.dataset):\n",
    "        x, y = batch[0].unsqueeze(0), batch[1].view(-1)\n",
    "        \n",
    "        with torch.no_grad():\n",
    "            logits = model(x.to(device))\n",
    "            \n",
    "            if binary:\n",
    "                loss = criterion(logits, y.to(device).unsqueeze(1))\n",
    "                acc = binary_acc(logits, y.to(device).unsqueeze(1))\n",
    "            else:\n",
    "                loss = criterion(logits, y.to(device))\n",
    "                acc = (logits.argmax(dim=-1) == y.to(device)).float().mean()\n",
    "                \n",
    "            valid_loss.append((loss.item()))\n",
    "            valid_accs.append(acc)\n",
    "    \n",
    "    print(f'loss:{sum(valid_loss) / len(valid_loss)} | acc:{sum(valid_accs) / len(valid_accs)}')"
   ]
  },
  {
   "cell_type": "code",
   "execution_count": 9,
   "metadata": {},
   "outputs": [],
   "source": [
    "mem = predict(model, train_loader, criterion, device)"
   ]
  },
  {
   "cell_type": "code",
   "execution_count": 10,
   "metadata": {},
   "outputs": [
    {
     "data": {
      "text/plain": [
       "5"
      ]
     },
     "execution_count": 10,
     "metadata": {},
     "output_type": "execute_result"
    }
   ],
   "source": [
    "mem"
   ]
  },
  {
   "cell_type": "code",
   "execution_count": 11,
   "metadata": {},
   "outputs": [
    {
     "name": "stdout",
     "output_type": "stream",
     "text": [
      "loss:0.4477453765594903 | acc:0.8591549396514893\n"
     ]
    }
   ],
   "source": [
    "evaluate(train_loader, model, criterion, device)"
   ]
  },
  {
   "cell_type": "code",
   "execution_count": 12,
   "metadata": {},
   "outputs": [],
   "source": [
    "model.add_neuron(train_loader, mem)"
   ]
  },
  {
   "cell_type": "code",
   "execution_count": 13,
   "metadata": {},
   "outputs": [
    {
     "name": "stdout",
     "output_type": "stream",
     "text": [
      "loss:0.4742723027585258 | acc:0.7840375900268555\n"
     ]
    }
   ],
   "source": [
    "evaluate(train_loader, model, criterion, device)"
   ]
  },
  {
   "cell_type": "code",
   "execution_count": 14,
   "metadata": {},
   "outputs": [],
   "source": [
    "num = predict(model, train_loader, criterion, device)"
   ]
  },
  {
   "cell_type": "code",
   "execution_count": 15,
   "metadata": {},
   "outputs": [
    {
     "data": {
      "text/plain": [
       "17"
      ]
     },
     "execution_count": 15,
     "metadata": {},
     "output_type": "execute_result"
    }
   ],
   "source": [
    "num"
   ]
  },
  {
   "cell_type": "code",
   "execution_count": 20,
   "metadata": {},
   "outputs": [
    {
     "data": {
      "text/plain": [
       "5"
      ]
     },
     "execution_count": 20,
     "metadata": {},
     "output_type": "execute_result"
    }
   ],
   "source": [
    "sum([p.numel() for p in model.layer_out.parameters()])"
   ]
  },
  {
   "cell_type": "code",
   "execution_count": 32,
   "metadata": {},
   "outputs": [
    {
     "data": {
      "text/plain": [
       "4"
      ]
     },
     "execution_count": 32,
     "metadata": {},
     "output_type": "execute_result"
    }
   ],
   "source": []
  },
  {
   "cell_type": "code",
   "execution_count": 16,
   "metadata": {},
   "outputs": [
    {
     "name": "stdout",
     "output_type": "stream",
     "text": [
      "loss:0.6724752671841724 | acc:0.6009389758110046\n"
     ]
    }
   ],
   "source": [
    "evaluate(train_loader, model, criterion, device)"
   ]
  },
  {
   "cell_type": "code",
   "execution_count": 17,
   "metadata": {},
   "outputs": [
    {
     "data": {
      "text/plain": [
       "(tensor([-0.9144, -0.5755, -0.7678, -0.6481, -0.8149, -0.5538, -0.6190, -0.8637,\n",
       "         -0.6922, -0.7756, -0.5755, -0.6262, -0.9586, -0.6774, -0.4808, -0.6701,\n",
       "          2.4230, -0.3563,  1.6543, -0.6997, -0.7146, -0.7990], device='cuda:0'),\n",
       " tensor(1., device='cuda:0'))"
      ]
     },
     "execution_count": 17,
     "metadata": {},
     "output_type": "execute_result"
    }
   ],
   "source": [
    "train_loader.dataset[0]"
   ]
  },
  {
   "cell_type": "code",
   "execution_count": 17,
   "metadata": {},
   "outputs": [
    {
     "data": {
      "text/plain": [
       "Parameter containing:\n",
       "tensor([  0.3140,  -0.0873,   0.1117, -21.0000], device='cuda:0',\n",
       "       requires_grad=True)"
      ]
     },
     "execution_count": 17,
     "metadata": {},
     "output_type": "execute_result"
    }
   ],
   "source": [
    "model.layer_1.bias"
   ]
  },
  {
   "cell_type": "code",
   "execution_count": 22,
   "metadata": {},
   "outputs": [
    {
     "data": {
      "text/plain": [
       "tensor(1.2633)"
      ]
     },
     "execution_count": 22,
     "metadata": {},
     "output_type": "execute_result"
    }
   ],
   "source": []
  },
  {
   "cell_type": "code",
   "execution_count": 8,
   "metadata": {},
   "outputs": [],
   "source": [
    "a = torch.randn([1])"
   ]
  },
  {
   "cell_type": "code",
   "execution_count": 9,
   "metadata": {},
   "outputs": [],
   "source": [
    "b = torch.randn([3])\n",
    "b = b.view(1, 3)"
   ]
  },
  {
   "cell_type": "code",
   "execution_count": 10,
   "metadata": {},
   "outputs": [
    {
     "data": {
      "text/plain": [
       "torch.Size([1, 3])"
      ]
     },
     "execution_count": 10,
     "metadata": {},
     "output_type": "execute_result"
    }
   ],
   "source": [
    "b.shape"
   ]
  },
  {
   "cell_type": "code",
   "execution_count": 11,
   "metadata": {},
   "outputs": [
    {
     "data": {
      "text/plain": [
       "tensor([[-1.5384,  1.9720,  0.2452, -0.2344]])"
      ]
     },
     "execution_count": 11,
     "metadata": {},
     "output_type": "execute_result"
    }
   ],
   "source": [
    "torch.cat((b, a.unsqueeze(1)), dim=1)"
   ]
  },
  {
   "cell_type": "code",
   "execution_count": 12,
   "metadata": {},
   "outputs": [
    {
     "data": {
      "text/plain": [
       "torch.Size([1, 1])"
      ]
     },
     "execution_count": 12,
     "metadata": {},
     "output_type": "execute_result"
    }
   ],
   "source": [
    "a.unsqueeze(1).shape"
   ]
  },
  {
   "cell_type": "code",
   "execution_count": 13,
   "metadata": {},
   "outputs": [
    {
     "data": {
      "text/plain": [
       "tensor([[-1.5384,  1.9720,  0.2452]])"
      ]
     },
     "execution_count": 13,
     "metadata": {},
     "output_type": "execute_result"
    }
   ],
   "source": [
    "b"
   ]
  },
  {
   "cell_type": "code",
   "execution_count": null,
   "metadata": {},
   "outputs": [],
   "source": []
  }
 ],
 "metadata": {
  "interpreter": {
   "hash": "219da6a50c866249bdfc07e8ee29701a3e2568a26ff21cc98a0eb284d1611ca6"
  },
  "kernelspec": {
   "display_name": "Python 3.7.6 64-bit",
   "language": "python",
   "name": "python3"
  },
  "language_info": {
   "codemirror_mode": {
    "name": "ipython",
    "version": 3
   },
   "file_extension": ".py",
   "mimetype": "text/x-python",
   "name": "python",
   "nbconvert_exporter": "python",
   "pygments_lexer": "ipython3",
   "version": "3.7.6"
  },
  "orig_nbformat": 4
 },
 "nbformat": 4,
 "nbformat_minor": 2
}
