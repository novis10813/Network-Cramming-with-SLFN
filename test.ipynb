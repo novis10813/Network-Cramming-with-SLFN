{
 "cells": [
  {
   "cell_type": "code",
   "execution_count": 5,
   "metadata": {},
   "outputs": [],
   "source": [
    "import copy\n",
    "import torch\n",
    "import torch.nn as nn\n",
    "import torch.optim as optim\n",
    "\n",
    "from DataPreprocess import create_dataloader\n",
    "from InitializingModule import InitModel\n",
    "from TrainingAlgorithm import train"
   ]
  },
  {
   "cell_type": "code",
   "execution_count": 2,
   "metadata": {},
   "outputs": [],
   "source": [
    "train_loader, val_loader = create_dataloader(datapath='data/SPECT_data.txt', batch_size=128)"
   ]
  },
  {
   "cell_type": "code",
   "execution_count": 3,
   "metadata": {},
   "outputs": [],
   "source": [
    "device = torch.device('cuda')\n",
    "a = InitModel(input_size=22, hidden_size=3, output_size=1, device=device, batch_norm=True)\n",
    "test_model = a.init_module_multi_ReLU_AE(train_loader)\n",
    "optimizer = optim.Adam(test_model.parameters(), lr=1e-3)\n",
    "criterion = nn.BCEWithLogitsLoss()"
   ]
  },
  {
   "cell_type": "code",
   "execution_count": 6,
   "metadata": {},
   "outputs": [],
   "source": [
    "saved_model = copy.deepcopy(test_model)"
   ]
  },
  {
   "cell_type": "code",
   "execution_count": 94,
   "metadata": {},
   "outputs": [
    {
     "data": {
      "text/plain": [
       "tensor([-0.3933])"
      ]
     },
     "execution_count": 94,
     "metadata": {},
     "output_type": "execute_result"
    }
   ],
   "source": [
    "train_loader.dataset[3][1].unsqueeze(0).detach().cpu() - test_model.layer_out.bias.data - torch.relu(test_model.layer_out.weight.data).sum().detach().cpu()"
   ]
  },
  {
   "cell_type": "code",
   "execution_count": 92,
   "metadata": {},
   "outputs": [
    {
     "data": {
      "text/plain": [
       "tensor(0.3711)"
      ]
     },
     "execution_count": 92,
     "metadata": {},
     "output_type": "execute_result"
    }
   ],
   "source": [
    "torch.relu(test_model.layer_out.weight.data).sum().detach().cpu()"
   ]
  },
  {
   "cell_type": "code",
   "execution_count": 96,
   "metadata": {},
   "outputs": [
    {
     "data": {
      "text/plain": [
       "tensor([[-0.3023,  0.3711]], device='cuda:0')"
      ]
     },
     "execution_count": 96,
     "metadata": {},
     "output_type": "execute_result"
    }
   ],
   "source": [
    "test_model.layer_out.weight.data"
   ]
  },
  {
   "cell_type": "code",
   "execution_count": 75,
   "metadata": {},
   "outputs": [
    {
     "data": {
      "text/plain": [
       "tensor(0.3711, device='cuda:0')"
      ]
     },
     "execution_count": 75,
     "metadata": {},
     "output_type": "execute_result"
    }
   ],
   "source": [
    "torch.relu(test_model.layer_out.weight.data).sum()"
   ]
  },
  {
   "cell_type": "code",
   "execution_count": 4,
   "metadata": {},
   "outputs": [
    {
     "name": "stdout",
     "output_type": "stream",
     "text": [
      "[ 1/100 ] | train_loss = 0.76017, train_acc = 0.55777, val_loss = 0.75389, val_acc = 0.51852\n",
      "[ 2/100 ] | train_loss = 0.75716, train_acc = 0.55386, val_loss = 0.75074, val_acc = 0.51852\n",
      "[ 3/100 ] | train_loss = 0.75419, train_acc = 0.55974, val_loss = 0.74764, val_acc = 0.51852\n",
      "[ 4/100 ] | train_loss = 0.75122, train_acc = 0.56756, val_loss = 0.74459, val_acc = 0.51852\n",
      "[ 5/100 ] | train_loss = 0.74820, train_acc = 0.57932, val_loss = 0.74151, val_acc = 0.51852\n",
      "[ 6/100 ] | train_loss = 0.74517, train_acc = 0.57344, val_loss = 0.73846, val_acc = 0.53704\n",
      "[ 7/100 ] | train_loss = 0.74221, train_acc = 0.58911, val_loss = 0.73554, val_acc = 0.53704\n",
      "[ 8/100 ] | train_loss = 0.73941, train_acc = 0.59499, val_loss = 0.73270, val_acc = 0.53704\n",
      "[ 9/100 ] | train_loss = 0.73666, train_acc = 0.59890, val_loss = 0.72997, val_acc = 0.53704\n",
      "[ 10/100 ] | train_loss = 0.73398, train_acc = 0.60280, val_loss = 0.72725, val_acc = 0.53704\n",
      "[ 11/100 ] | train_loss = 0.73121, train_acc = 0.61062, val_loss = 0.72433, val_acc = 0.53704\n",
      "[ 12/100 ] | train_loss = 0.72816, train_acc = 0.60671, val_loss = 0.72099, val_acc = 0.53704\n",
      "[ 13/100 ] | train_loss = 0.72356, train_acc = 0.60671, val_loss = 0.71710, val_acc = 0.53704\n",
      "[ 14/100 ] | train_loss = 0.71863, train_acc = 0.61452, val_loss = 0.71307, val_acc = 0.53704\n",
      "[ 15/100 ] | train_loss = 0.71361, train_acc = 0.61452, val_loss = 0.70905, val_acc = 0.51852\n",
      "[ 16/100 ] | train_loss = 0.70860, train_acc = 0.61645, val_loss = 0.70501, val_acc = 0.51852\n",
      "[ 17/100 ] | train_loss = 0.70373, train_acc = 0.62036, val_loss = 0.70110, val_acc = 0.51852\n",
      "[ 18/100 ] | train_loss = 0.69897, train_acc = 0.61645, val_loss = 0.69725, val_acc = 0.53704\n",
      "[ 19/100 ] | train_loss = 0.69434, train_acc = 0.65358, val_loss = 0.69358, val_acc = 0.53704\n",
      "[ 20/100 ] | train_loss = 0.68986, train_acc = 0.66926, val_loss = 0.69003, val_acc = 0.55556\n",
      "[ 21/100 ] | train_loss = 0.68558, train_acc = 0.67904, val_loss = 0.68659, val_acc = 0.55556\n",
      "[ 22/100 ] | train_loss = 0.68153, train_acc = 0.68883, val_loss = 0.68327, val_acc = 0.62963\n",
      "[ 23/100 ] | train_loss = 0.67772, train_acc = 0.69274, val_loss = 0.68014, val_acc = 0.62963\n",
      "[ 24/100 ] | train_loss = 0.67412, train_acc = 0.69665, val_loss = 0.67717, val_acc = 0.61111\n",
      "[ 25/100 ] | train_loss = 0.67071, train_acc = 0.69665, val_loss = 0.67435, val_acc = 0.61111\n",
      "[ 26/100 ] | train_loss = 0.66742, train_acc = 0.70643, val_loss = 0.67162, val_acc = 0.61111\n",
      "[ 27/100 ] | train_loss = 0.66422, train_acc = 0.71034, val_loss = 0.66882, val_acc = 0.61111\n",
      "[ 28/100 ] | train_loss = 0.66113, train_acc = 0.71815, val_loss = 0.66605, val_acc = 0.61111\n",
      "[ 29/100 ] | train_loss = 0.65821, train_acc = 0.71815, val_loss = 0.66338, val_acc = 0.61111\n",
      "[ 30/100 ] | train_loss = 0.65550, train_acc = 0.71815, val_loss = 0.66089, val_acc = 0.61111\n",
      "[ 31/100 ] | train_loss = 0.65290, train_acc = 0.71425, val_loss = 0.65846, val_acc = 0.61111\n",
      "[ 32/100 ] | train_loss = 0.65042, train_acc = 0.71425, val_loss = 0.65615, val_acc = 0.61111\n",
      "[ 33/100 ] | train_loss = 0.64797, train_acc = 0.72013, val_loss = 0.65382, val_acc = 0.61111\n",
      "[ 34/100 ] | train_loss = 0.64547, train_acc = 0.71425, val_loss = 0.65145, val_acc = 0.64815\n",
      "[ 35/100 ] | train_loss = 0.64300, train_acc = 0.71227, val_loss = 0.64910, val_acc = 0.64815\n",
      "[ 36/100 ] | train_loss = 0.64063, train_acc = 0.71618, val_loss = 0.64685, val_acc = 0.66667\n",
      "[ 37/100 ] | train_loss = 0.63833, train_acc = 0.71618, val_loss = 0.64464, val_acc = 0.68519\n",
      "[ 38/100 ] | train_loss = 0.63608, train_acc = 0.72008, val_loss = 0.64246, val_acc = 0.68519\n",
      "[ 39/100 ] | train_loss = 0.63389, train_acc = 0.71420, val_loss = 0.64035, val_acc = 0.68519\n",
      "[ 40/100 ] | train_loss = 0.63174, train_acc = 0.71029, val_loss = 0.63822, val_acc = 0.68519\n",
      "[ 41/100 ] | train_loss = 0.62959, train_acc = 0.71029, val_loss = 0.63605, val_acc = 0.68519\n",
      "[ 42/100 ] | train_loss = 0.62747, train_acc = 0.71029, val_loss = 0.63391, val_acc = 0.68519\n",
      "[ 43/100 ] | train_loss = 0.62539, train_acc = 0.71029, val_loss = 0.63183, val_acc = 0.68519\n",
      "[ 44/100 ] | train_loss = 0.62335, train_acc = 0.68874, val_loss = 0.62973, val_acc = 0.68519\n",
      "[ 45/100 ] | train_loss = 0.62134, train_acc = 0.68874, val_loss = 0.62769, val_acc = 0.68519\n",
      "[ 46/100 ] | train_loss = 0.61936, train_acc = 0.68874, val_loss = 0.62567, val_acc = 0.68519\n",
      "[ 47/100 ] | train_loss = 0.61742, train_acc = 0.69265, val_loss = 0.62367, val_acc = 0.68519\n",
      "[ 48/100 ] | train_loss = 0.61550, train_acc = 0.69853, val_loss = 0.62171, val_acc = 0.70370\n",
      "[ 49/100 ] | train_loss = 0.61365, train_acc = 0.69853, val_loss = 0.61981, val_acc = 0.70370\n",
      "[ 50/100 ] | train_loss = 0.61177, train_acc = 0.70441, val_loss = 0.61785, val_acc = 0.70370\n",
      "[ 51/100 ] | train_loss = 0.60995, train_acc = 0.70441, val_loss = 0.61598, val_acc = 0.70370\n",
      "[ 52/100 ] | train_loss = 0.60814, train_acc = 0.72008, val_loss = 0.61409, val_acc = 0.70370\n",
      "[ 53/100 ] | train_loss = 0.60634, train_acc = 0.72008, val_loss = 0.61225, val_acc = 0.70370\n",
      "[ 54/100 ] | train_loss = 0.60454, train_acc = 0.72008, val_loss = 0.61040, val_acc = 0.70370\n",
      "[ 55/100 ] | train_loss = 0.60279, train_acc = 0.72597, val_loss = 0.60854, val_acc = 0.70370\n",
      "[ 56/100 ] | train_loss = 0.60106, train_acc = 0.72597, val_loss = 0.60679, val_acc = 0.70370\n",
      "[ 57/100 ] | train_loss = 0.59932, train_acc = 0.72597, val_loss = 0.60498, val_acc = 0.70370\n",
      "[ 58/100 ] | train_loss = 0.59758, train_acc = 0.72597, val_loss = 0.60319, val_acc = 0.70370\n",
      "[ 59/100 ] | train_loss = 0.59588, train_acc = 0.72597, val_loss = 0.60143, val_acc = 0.70370\n",
      "[ 60/100 ] | train_loss = 0.59417, train_acc = 0.72597, val_loss = 0.59963, val_acc = 0.70370\n",
      "[ 61/100 ] | train_loss = 0.59247, train_acc = 0.72597, val_loss = 0.59789, val_acc = 0.72222\n",
      "[ 62/100 ] | train_loss = 0.59078, train_acc = 0.72597, val_loss = 0.59614, val_acc = 0.74074\n",
      "[ 63/100 ] | train_loss = 0.58911, train_acc = 0.72597, val_loss = 0.59440, val_acc = 0.74074\n",
      "[ 64/100 ] | train_loss = 0.58746, train_acc = 0.72597, val_loss = 0.59270, val_acc = 0.74074\n",
      "[ 65/100 ] | train_loss = 0.58578, train_acc = 0.73773, val_loss = 0.59093, val_acc = 0.74074\n",
      "[ 66/100 ] | train_loss = 0.58415, train_acc = 0.73773, val_loss = 0.58922, val_acc = 0.74074\n",
      "[ 67/100 ] | train_loss = 0.58253, train_acc = 0.73773, val_loss = 0.58752, val_acc = 0.74074\n",
      "[ 68/100 ] | train_loss = 0.58087, train_acc = 0.73773, val_loss = 0.58582, val_acc = 0.74074\n",
      "[ 69/100 ] | train_loss = 0.57926, train_acc = 0.74164, val_loss = 0.58415, val_acc = 0.74074\n",
      "[ 70/100 ] | train_loss = 0.57761, train_acc = 0.74554, val_loss = 0.58241, val_acc = 0.74074\n",
      "[ 71/100 ] | train_loss = 0.57602, train_acc = 0.75731, val_loss = 0.58076, val_acc = 0.74074\n",
      "[ 72/100 ] | train_loss = 0.57439, train_acc = 0.75731, val_loss = 0.57911, val_acc = 0.74074\n",
      "[ 73/100 ] | train_loss = 0.57283, train_acc = 0.76319, val_loss = 0.57746, val_acc = 0.74074\n",
      "[ 74/100 ] | train_loss = 0.57121, train_acc = 0.76319, val_loss = 0.57575, val_acc = 0.74074\n",
      "[ 75/100 ] | train_loss = 0.56963, train_acc = 0.76319, val_loss = 0.57411, val_acc = 0.74074\n",
      "[ 76/100 ] | train_loss = 0.56803, train_acc = 0.76319, val_loss = 0.57247, val_acc = 0.74074\n",
      "[ 77/100 ] | train_loss = 0.56644, train_acc = 0.76907, val_loss = 0.57080, val_acc = 0.74074\n",
      "[ 78/100 ] | train_loss = 0.56488, train_acc = 0.76907, val_loss = 0.56917, val_acc = 0.74074\n",
      "[ 79/100 ] | train_loss = 0.56329, train_acc = 0.76907, val_loss = 0.56754, val_acc = 0.75926\n",
      "[ 80/100 ] | train_loss = 0.56174, train_acc = 0.77298, val_loss = 0.56594, val_acc = 0.75926\n",
      "[ 81/100 ] | train_loss = 0.56016, train_acc = 0.77298, val_loss = 0.56426, val_acc = 0.75926\n",
      "[ 82/100 ] | train_loss = 0.55862, train_acc = 0.77298, val_loss = 0.56268, val_acc = 0.75926\n",
      "[ 83/100 ] | train_loss = 0.55706, train_acc = 0.77688, val_loss = 0.56108, val_acc = 0.75926\n",
      "[ 84/100 ] | train_loss = 0.55549, train_acc = 0.77688, val_loss = 0.55944, val_acc = 0.75926\n",
      "[ 85/100 ] | train_loss = 0.55397, train_acc = 0.77688, val_loss = 0.55785, val_acc = 0.75926\n",
      "[ 86/100 ] | train_loss = 0.55239, train_acc = 0.78079, val_loss = 0.55625, val_acc = 0.77778\n",
      "[ 87/100 ] | train_loss = 0.55084, train_acc = 0.78079, val_loss = 0.55461, val_acc = 0.77778\n",
      "[ 88/100 ] | train_loss = 0.54932, train_acc = 0.78079, val_loss = 0.55301, val_acc = 0.77778\n",
      "[ 89/100 ] | train_loss = 0.54779, train_acc = 0.78079, val_loss = 0.55146, val_acc = 0.77778\n",
      "[ 90/100 ] | train_loss = 0.54625, train_acc = 0.78079, val_loss = 0.54982, val_acc = 0.77778\n",
      "[ 91/100 ] | train_loss = 0.54472, train_acc = 0.78079, val_loss = 0.54825, val_acc = 0.77778\n",
      "[ 92/100 ] | train_loss = 0.54319, train_acc = 0.78667, val_loss = 0.54669, val_acc = 0.77778\n",
      "[ 93/100 ] | train_loss = 0.54167, train_acc = 0.78667, val_loss = 0.54509, val_acc = 0.77778\n",
      "[ 94/100 ] | train_loss = 0.54017, train_acc = 0.79058, val_loss = 0.54355, val_acc = 0.77778\n",
      "[ 95/100 ] | train_loss = 0.53867, train_acc = 0.79058, val_loss = 0.54198, val_acc = 0.77778\n",
      "[ 96/100 ] | train_loss = 0.53717, train_acc = 0.81016, val_loss = 0.54044, val_acc = 0.77778\n",
      "[ 97/100 ] | train_loss = 0.53565, train_acc = 0.80625, val_loss = 0.53883, val_acc = 0.77778\n",
      "[ 98/100 ] | train_loss = 0.53418, train_acc = 0.80625, val_loss = 0.53732, val_acc = 0.77778\n",
      "[ 99/100 ] | train_loss = 0.53267, train_acc = 0.81213, val_loss = 0.53577, val_acc = 0.77778\n",
      "[ 100/100 ] | train_loss = 0.53117, train_acc = 0.81213, val_loss = 0.53423, val_acc = 0.77778\n"
     ]
    }
   ],
   "source": [
    "model = train(train_loader=train_loader, val_loader=val_loader, model=test_model, epochs=100, optimizer=optimizer, criterion=criterion, device=device)"
   ]
  }
 ],
 "metadata": {
  "interpreter": {
   "hash": "219da6a50c866249bdfc07e8ee29701a3e2568a26ff21cc98a0eb284d1611ca6"
  },
  "kernelspec": {
   "display_name": "Python 3.7.6 64-bit",
   "language": "python",
   "name": "python3"
  },
  "language_info": {
   "codemirror_mode": {
    "name": "ipython",
    "version": 3
   },
   "file_extension": ".py",
   "mimetype": "text/x-python",
   "name": "python",
   "nbconvert_exporter": "python",
   "pygments_lexer": "ipython3",
   "version": "3.7.6"
  },
  "orig_nbformat": 4
 },
 "nbformat": 4,
 "nbformat_minor": 2
}
